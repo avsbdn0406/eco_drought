{
 "cells": [
  {
   "cell_type": "code",
   "execution_count": 1,
   "id": "952b30e8",
   "metadata": {},
   "outputs": [],
   "source": [
    "import os\n",
    "import requests\n",
    "import json\n",
    "import pandas as pd\n",
    "import pprint\n",
    "from urllib.request import urlopen"
   ]
  },
  {
   "cell_type": "markdown",
   "id": "69a72541",
   "metadata": {},
   "source": [
    "## Initialize the parameters"
   ]
  },
  {
   "cell_type": "code",
   "execution_count": 52,
   "id": "1248bfb6-9775-4904-845d-4a8634ac9cef",
   "metadata": {},
   "outputs": [],
   "source": [
    "PAGENO = 1\n",
    "NUM_OF_ROWS = '200'\n",
    "DAM_CODE = {'영주':'2004101', '김천부항댐':'201101'}\n",
    "DOC_TYPE = 'json'\n",
    "API_URL = 'http://apis.data.go.kr/B500001/dam/sluicePresentCondition/delist'\n",
    "START_DATE = '2006-01-01'\n",
    "END_DATE='2022-12-31'\n",
    "API_KEY = api_key\n",
    "columns = {'obsryymtde':'일자', 'inflowqy' : '유입량 (㎥/sec)','prcptqy':'강우량','rsvwtqy':'저수량','rsvwtrt':'저수율','totdcwtrqy':'총방류량', 'lowlevel':'댐수위'}"
   ]
  },
  {
   "cell_type": "markdown",
   "id": "55598baf-3b46-49de-85f8-de495765c4dc",
   "metadata": {},
   "source": [
    "## Run"
   ]
  },
  {
   "cell_type": "code",
   "execution_count": 53,
   "id": "f7e9555b-cafd-4a37-aeea-8a4717bc74d9",
   "metadata": {
    "tags": []
   },
   "outputs": [
    {
     "name": "stdout",
     "output_type": "stream",
     "text": [
      "영주 DAM requesting...\n",
      "<Response [200]>\n",
      "<Response [200]>\n",
      "<Response [200]>\n",
      "<Response [200]>\n",
      "<Response [200]>\n",
      "<Response [200]>\n",
      "<Response [200]>\n",
      "<Response [200]>\n",
      "<Response [200]>\n",
      "<Response [200]>\n",
      "<Response [200]>\n",
      "<Response [200]>\n",
      "<Response [200]>\n",
      "<Response [200]>\n",
      "<Response [200]>\n",
      "<Response [200]>\n",
      "<Response [200]>\n",
      "<Response [200]>\n",
      "<Response [200]>\n",
      "<Response [200]>\n",
      "<Response [200]>\n",
      "<Response [200]>\n",
      "<Response [200]>\n"
     ]
    }
   ],
   "source": [
    "\n",
    "for dam,damcode in zip(DAM_CODE, DAM_CODE.values()):\n",
    "    tmp=pd.DataFrame()\n",
    "    print(dam +' DAM requesting...')\n",
    "    while True:\n",
    "        # Define the parameters\n",
    "        params ={'serviceKey' : API_KEY, \n",
    "             'pageNo' : str(PAGENO), \n",
    "             'numOfRows' : NUM_OF_ROWS, \n",
    "             'damcode' : damcode,\n",
    "             'stdt' : START_DATE, \n",
    "             'eddt' : END_DATE, \n",
    "             '_type' : DOC_TYPE}\n",
    "\n",
    "        # API request\n",
    "        response = requests.get(API_URL, params=params)\n",
    "        # Check the status code\n",
    "        print(response)\n",
    "        # Encoding\n",
    "        res = response.content.decode('utf-8')\n",
    "        # If response has contents:\n",
    "        if len(res)>0:\n",
    "            json_acceptable_string = res.replace(\"'\", \"\\\"\")\n",
    "            res = json.loads(json_acceptable_string)\n",
    "            # if contents is ended:\n",
    "            if len(res['response']['body']['items'])==0:\n",
    "                break\n",
    "            else:\n",
    "                # Save the item to the dataframe\n",
    "                for item in res['response']['body']['items']['item']:\n",
    "                    tmp = pd.concat([tmp,pd.DataFrame([item])],axis=0)\n",
    "                PAGENO+=1\n",
    "        else:\n",
    "            break\n",
    "    df = tmp.copy()\n",
    "    # Rename the columns\n",
    "    df = df.rename(columns=columns)\n",
    "    df = df.sort_values(by='일자')\n",
    "    df = df.reset_index(drop=True)\n",
    "    # Save files\n",
    "    df.to_csv('./'+dam+'_'+str(df['일자'].iloc[0])+'_'+str(df['일자'].iloc[-1])+'.csv',encoding='utf-8',index=False)"
   ]
  },
  {
   "cell_type": "code",
   "execution_count": null,
   "id": "50631601",
   "metadata": {},
   "outputs": [],
   "source": []
  },
  {
   "cell_type": "code",
   "execution_count": null,
   "id": "938618e8",
   "metadata": {},
   "outputs": [],
   "source": []
  }
 ],
 "metadata": {
  "kernelspec": {
   "display_name": "Python 3 (ipykernel)",
   "language": "python",
   "name": "python3"
  },
  "language_info": {
   "codemirror_mode": {
    "name": "ipython",
    "version": 3
   },
   "file_extension": ".py",
   "mimetype": "text/x-python",
   "name": "python",
   "nbconvert_exporter": "python",
   "pygments_lexer": "ipython3",
   "version": "3.8.13"
  }
 },
 "nbformat": 4,
 "nbformat_minor": 5
}
